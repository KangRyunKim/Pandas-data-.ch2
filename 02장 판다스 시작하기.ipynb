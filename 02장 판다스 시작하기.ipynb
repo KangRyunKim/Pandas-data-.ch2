{
 "cells": [
  {
   "cell_type": "markdown",
   "id": "e7cd705e",
   "metadata": {},
   "source": [
    "###### <판다스는 데이터프레임과 시리즈라는 두가지 새로운 자료형을 제공하는 데이터 분석용 오픈소스 라이브러리이다.>"
   ]
  },
  {
   "cell_type": "markdown",
   "id": "ed437cab",
   "metadata": {},
   "source": [
    "## 02-1 판다스가 왜 필요할까?"
   ]
  },
  {
   "cell_type": "markdown",
   "id": "5bff780a",
   "metadata": {},
   "source": [
    "###### <판다스는 한마디로 파이썬으로 다루는 엑셀이다 <- 스프레드시트 형태의 데이터를 불러와 빠르게 조작, 정렬, 병합할 수 있기에.>\n",
    "###### 데이터프레임 : 전체 스프레드시트 또는 직사각형 형태의 데이터\n",
    "###### 시리즈 : 데이터프레임의 한열\n",
    "\n",
    "###### 데이터 다룰 때, 파이썬이나 판다스 같은 도구 사용하는 이유 : 여러 데이터셋에 같은 분석 과정을 적용해야 할 때 일련의 작업을 자동화할 수 있기 때문! "
   ]
  },
  {
   "cell_type": "markdown",
   "id": "a4d87c12",
   "metadata": {},
   "source": [
    "## 02-2 데이터셋 불러오기"
   ]
  },
  {
   "cell_type": "markdown",
   "id": "6d81a5ef",
   "metadata": {},
   "source": [
    "### 데이터 분석은 데이터셋 불러오기부터"
   ]
  },
  {
   "cell_type": "markdown",
   "id": "9dd15966",
   "metadata": {},
   "source": [
    "#### [Do It! 실습] 첫 데이터셋 불러오기"
   ]
  },
  {
   "cell_type": "markdown",
   "id": "a2d3075a",
   "metadata": {},
   "source": [
    "###### 판다스는 파이썬과 함께 제공되는 표준 라이브러리가 아니므로, 사용하려면 라이브러리를 불러와야 함."
   ]
  },
  {
   "cell_type": "code",
   "execution_count": 2,
   "id": "e9edbc67",
   "metadata": {},
   "outputs": [],
   "source": [
    "import pandas"
   ]
  },
  {
   "cell_type": "code",
   "execution_count": 3,
   "id": "59f1c4d3",
   "metadata": {},
   "outputs": [],
   "source": [
    "df = pandas.read_csv('../data/gapminder.tsv', sep='\\t')"
   ]
  },
  {
   "cell_type": "code",
   "execution_count": 4,
   "id": "8f542075",
   "metadata": {},
   "outputs": [
    {
     "name": "stdout",
     "output_type": "stream",
     "text": [
      "          country continent  year  lifeExp       pop   gdpPercap\n",
      "0     Afghanistan      Asia  1952   28.801   8425333  779.445314\n",
      "1     Afghanistan      Asia  1957   30.332   9240934  820.853030\n",
      "2     Afghanistan      Asia  1962   31.997  10267083  853.100710\n",
      "3     Afghanistan      Asia  1967   34.020  11537966  836.197138\n",
      "4     Afghanistan      Asia  1972   36.088  13079460  739.981106\n",
      "...           ...       ...   ...      ...       ...         ...\n",
      "1699     Zimbabwe    Africa  1987   62.351   9216418  706.157306\n",
      "1700     Zimbabwe    Africa  1992   60.377  10704340  693.420786\n",
      "1701     Zimbabwe    Africa  1997   46.809  11404948  792.449960\n",
      "1702     Zimbabwe    Africa  2002   39.989  11926563  672.038623\n",
      "1703     Zimbabwe    Africa  2007   43.487  12311143  469.709298\n",
      "\n",
      "[1704 rows x 6 columns]\n"
     ]
    }
   ],
   "source": [
    "print(df)"
   ]
  },
  {
   "cell_type": "code",
   "execution_count": 5,
   "id": "1bec8f66",
   "metadata": {},
   "outputs": [],
   "source": [
    "import pandas as pd\n",
    "df = pd.read_csv('../data/gapminder.tsv', sep='\\t')"
   ]
  },
  {
   "cell_type": "markdown",
   "id": "918f9740",
   "metadata": {},
   "source": [
    "#### [Do It! 실습] 데이터프레임 이해하기"
   ]
  },
  {
   "cell_type": "code",
   "execution_count": 6,
   "id": "48efdb11",
   "metadata": {},
   "outputs": [
    {
     "name": "stdout",
     "output_type": "stream",
     "text": [
      "<class 'pandas.core.frame.DataFrame'>\n"
     ]
    }
   ],
   "source": [
    "print(type(df))"
   ]
  },
  {
   "cell_type": "code",
   "execution_count": 7,
   "id": "12ce4d4b",
   "metadata": {},
   "outputs": [
    {
     "name": "stdout",
     "output_type": "stream",
     "text": [
      "(1704, 6)\n"
     ]
    }
   ],
   "source": [
    "print(df.shape)\n",
    "## (행의개수. 열의개수)\n",
    "## shape은 함수나 메서드가 아닌 속성이기 때문에, 이름뒤에 소괄호가 없다."
   ]
  },
  {
   "cell_type": "code",
   "execution_count": 8,
   "id": "d4ed92a5",
   "metadata": {},
   "outputs": [
    {
     "name": "stdout",
     "output_type": "stream",
     "text": [
      "Index(['country', 'continent', 'year', 'lifeExp', 'pop', 'gdpPercap'], dtype='object')\n"
     ]
    }
   ],
   "source": [
    "print(df.columns)\n",
    "## 데이터셋의 열이름 "
   ]
  },
  {
   "cell_type": "code",
   "execution_count": 9,
   "id": "2c747174",
   "metadata": {},
   "outputs": [
    {
     "name": "stdout",
     "output_type": "stream",
     "text": [
      "country       object\n",
      "continent     object\n",
      "year           int64\n",
      "lifeExp      float64\n",
      "pop            int64\n",
      "gdpPercap    float64\n",
      "dtype: object\n"
     ]
    }
   ],
   "source": [
    "print(df.dtypes)"
   ]
  },
  {
   "cell_type": "code",
   "execution_count": 10,
   "id": "c29329fe",
   "metadata": {},
   "outputs": [
    {
     "name": "stdout",
     "output_type": "stream",
     "text": [
      "<class 'pandas.core.frame.DataFrame'>\n",
      "RangeIndex: 1704 entries, 0 to 1703\n",
      "Data columns (total 6 columns):\n",
      " #   Column     Non-Null Count  Dtype  \n",
      "---  ------     --------------  -----  \n",
      " 0   country    1704 non-null   object \n",
      " 1   continent  1704 non-null   object \n",
      " 2   year       1704 non-null   int64  \n",
      " 3   lifeExp    1704 non-null   float64\n",
      " 4   pop        1704 non-null   int64  \n",
      " 5   gdpPercap  1704 non-null   float64\n",
      "dtypes: float64(2), int64(2), object(2)\n",
      "memory usage: 80.0+ KB\n",
      "None\n"
     ]
    }
   ],
   "source": [
    "print(df.info())"
   ]
  },
  {
   "cell_type": "markdown",
   "id": "85c943a8",
   "metadata": {},
   "source": [
    "###### 파이썬 string <-> 판다스 object  (문자열)"
   ]
  },
  {
   "cell_type": "markdown",
   "id": "1a275f68",
   "metadata": {},
   "source": [
    "### 02-3 데이터 추출하기"
   ]
  },
  {
   "cell_type": "code",
   "execution_count": 11,
   "id": "ad47a275",
   "metadata": {},
   "outputs": [
    {
     "name": "stdout",
     "output_type": "stream",
     "text": [
      "       country continent  year  lifeExp       pop   gdpPercap\n",
      "0  Afghanistan      Asia  1952   28.801   8425333  779.445314\n",
      "1  Afghanistan      Asia  1957   30.332   9240934  820.853030\n",
      "2  Afghanistan      Asia  1962   31.997  10267083  853.100710\n",
      "3  Afghanistan      Asia  1967   34.020  11537966  836.197138\n",
      "4  Afghanistan      Asia  1972   36.088  13079460  739.981106\n"
     ]
    }
   ],
   "source": [
    "print(df.head())"
   ]
  },
  {
   "cell_type": "markdown",
   "id": "8997f22e",
   "metadata": {},
   "source": [
    "### 열 데이터 추출하기"
   ]
  },
  {
   "cell_type": "markdown",
   "id": "9032e101",
   "metadata": {},
   "source": [
    "#### [Do It! 실습] 문자열로 열 데이터 추출하기"
   ]
  },
  {
   "cell_type": "code",
   "execution_count": 12,
   "id": "c48ff4e5",
   "metadata": {},
   "outputs": [],
   "source": [
    "country_df = df['country']"
   ]
  },
  {
   "cell_type": "code",
   "execution_count": 13,
   "id": "9d610669",
   "metadata": {},
   "outputs": [
    {
     "name": "stdout",
     "output_type": "stream",
     "text": [
      "0    Afghanistan\n",
      "1    Afghanistan\n",
      "2    Afghanistan\n",
      "3    Afghanistan\n",
      "4    Afghanistan\n",
      "Name: country, dtype: object\n"
     ]
    }
   ],
   "source": [
    "print(country_df.head())"
   ]
  },
  {
   "cell_type": "code",
   "execution_count": 14,
   "id": "622f4973",
   "metadata": {},
   "outputs": [
    {
     "name": "stdout",
     "output_type": "stream",
     "text": [
      "1699    Zimbabwe\n",
      "1700    Zimbabwe\n",
      "1701    Zimbabwe\n",
      "1702    Zimbabwe\n",
      "1703    Zimbabwe\n",
      "Name: country, dtype: object\n"
     ]
    }
   ],
   "source": [
    "print(country_df.tail())"
   ]
  },
  {
   "cell_type": "markdown",
   "id": "48c05657",
   "metadata": {},
   "source": [
    "#### [Do It! 실습] 리스트로 열 데이터 추출하기"
   ]
  },
  {
   "cell_type": "markdown",
   "id": "c8791ffe",
   "metadata": {},
   "source": [
    "###### [[ ]] 에서 바깥쪽 대괄호는 데이터프레임에서 열을 추출한다는 뜻, 안쪽 대괄호는 추출할 열 리스트"
   ]
  },
  {
   "cell_type": "code",
   "execution_count": 24,
   "id": "45d5a82b",
   "metadata": {},
   "outputs": [],
   "source": [
    "subset = df[['country', 'continent', 'year']]"
   ]
  },
  {
   "cell_type": "code",
   "execution_count": 25,
   "id": "36fb88f6",
   "metadata": {},
   "outputs": [
    {
     "name": "stdout",
     "output_type": "stream",
     "text": [
      "          country continent  year\n",
      "0     Afghanistan      Asia  1952\n",
      "1     Afghanistan      Asia  1957\n",
      "2     Afghanistan      Asia  1962\n",
      "3     Afghanistan      Asia  1967\n",
      "4     Afghanistan      Asia  1972\n",
      "...           ...       ...   ...\n",
      "1699     Zimbabwe    Africa  1987\n",
      "1700     Zimbabwe    Africa  1992\n",
      "1701     Zimbabwe    Africa  1997\n",
      "1702     Zimbabwe    Africa  2002\n",
      "1703     Zimbabwe    Africa  2007\n",
      "\n",
      "[1704 rows x 3 columns]\n"
     ]
    }
   ],
   "source": [
    "print(subset)"
   ]
  },
  {
   "cell_type": "markdown",
   "id": "241ac5ed",
   "metadata": {},
   "source": [
    "#### [Do It! 실습] 두 추출 방법의 차이점 이해하기 "
   ]
  },
  {
   "cell_type": "markdown",
   "id": "39e5361c",
   "metadata": {},
   "source": [
    "###### 열 이름을 문자열로 지정하거나 열 이름을 담은 리스트를 넣는 두가지방법의 차이 : 반환하는 객체의 자료형이 다르다.\n",
    "\n",
    "###### 시리즈(Series): 1차원 배열로 이루어진 데이터 구조. 즉, 하나의 열(Column)을 가짐.\n",
    "###### 데이터프레임(DataFrame): 2차원 테이블로 이루어진 데이터 구조로, 여러 개의 열(Column)과 행(Row)을 가짐.\n"
   ]
  },
  {
   "cell_type": "code",
   "execution_count": 33,
   "id": "685f668e",
   "metadata": {},
   "outputs": [
    {
     "name": "stdout",
     "output_type": "stream",
     "text": [
      "<class 'pandas.core.series.Series'>\n"
     ]
    }
   ],
   "source": [
    "##방법 1: series\n",
    "country_df = df['country']\n",
    "print(type(country_df))"
   ]
  },
  {
   "cell_type": "code",
   "execution_count": 30,
   "id": "569ec564",
   "metadata": {},
   "outputs": [
    {
     "name": "stdout",
     "output_type": "stream",
     "text": [
      "0       Afghanistan\n",
      "1       Afghanistan\n",
      "2       Afghanistan\n",
      "3       Afghanistan\n",
      "4       Afghanistan\n",
      "           ...     \n",
      "1699       Zimbabwe\n",
      "1700       Zimbabwe\n",
      "1701       Zimbabwe\n",
      "1702       Zimbabwe\n",
      "1703       Zimbabwe\n",
      "Name: country, Length: 1704, dtype: object\n"
     ]
    }
   ],
   "source": [
    "print(country_df)"
   ]
  },
  {
   "cell_type": "code",
   "execution_count": 35,
   "id": "4afc5cc5",
   "metadata": {},
   "outputs": [
    {
     "name": "stdout",
     "output_type": "stream",
     "text": [
      "<class 'pandas.core.frame.DataFrame'>\n"
     ]
    }
   ],
   "source": [
    "##방법 2: dataframe\n",
    "country_df_list = df[['country']]\n",
    "print(type(country_df_list))"
   ]
  },
  {
   "cell_type": "code",
   "execution_count": 36,
   "id": "2e2f8f9e",
   "metadata": {},
   "outputs": [
    {
     "name": "stdout",
     "output_type": "stream",
     "text": [
      "          country\n",
      "0     Afghanistan\n",
      "1     Afghanistan\n",
      "2     Afghanistan\n",
      "3     Afghanistan\n",
      "4     Afghanistan\n",
      "...           ...\n",
      "1699     Zimbabwe\n",
      "1700     Zimbabwe\n",
      "1701     Zimbabwe\n",
      "1702     Zimbabwe\n",
      "1703     Zimbabwe\n",
      "\n",
      "[1704 rows x 1 columns]\n"
     ]
    }
   ],
   "source": [
    "print(country_df_list)"
   ]
  },
  {
   "cell_type": "code",
   "execution_count": 38,
   "id": "2843f77a",
   "metadata": {},
   "outputs": [
    {
     "name": "stdout",
     "output_type": "stream",
     "text": [
      "0       Afghanistan\n",
      "1       Afghanistan\n",
      "2       Afghanistan\n",
      "3       Afghanistan\n",
      "4       Afghanistan\n",
      "           ...     \n",
      "1699       Zimbabwe\n",
      "1700       Zimbabwe\n",
      "1701       Zimbabwe\n",
      "1702       Zimbabwe\n",
      "1703       Zimbabwe\n",
      "Name: country, Length: 1704, dtype: object\n"
     ]
    }
   ],
   "source": [
    "##방법 3 : dataframe\n",
    "print(df.country)"
   ]
  },
  {
   "cell_type": "markdown",
   "id": "4b7ad5f9",
   "metadata": {},
   "source": [
    "### 행 데이터 추출하기"
   ]
  },
  {
   "cell_type": "markdown",
   "id": "9b5da2f0",
   "metadata": {},
   "source": [
    "#### [Do It! 실습] 행 이름으로 행 데이터 추출하기"
   ]
  },
  {
   "cell_type": "markdown",
   "id": "f7d44cb8",
   "metadata": {},
   "source": [
    "###### loc : location = 행 이름을 기준으로 행 추출\n",
    "###### iloc : integer location = 행 번호(위치)를 기준으로 행 추출\n",
    "\n",
    "###### 데이터 셋의 맨 왼쪽 숫자는 판다스가 자동으로 매긴 dataframe의 인덱스, 행 번호이자 이름 (자동으로 매겨진 인덱스는 loc 속성에도 사용 가능)"
   ]
  },
  {
   "cell_type": "code",
   "execution_count": 40,
   "id": "a3b6438a",
   "metadata": {},
   "outputs": [
    {
     "name": "stdout",
     "output_type": "stream",
     "text": [
      "          country continent  year  lifeExp       pop   gdpPercap\n",
      "0     Afghanistan      Asia  1952   28.801   8425333  779.445314\n",
      "1     Afghanistan      Asia  1957   30.332   9240934  820.853030\n",
      "2     Afghanistan      Asia  1962   31.997  10267083  853.100710\n",
      "3     Afghanistan      Asia  1967   34.020  11537966  836.197138\n",
      "4     Afghanistan      Asia  1972   36.088  13079460  739.981106\n",
      "...           ...       ...   ...      ...       ...         ...\n",
      "1699     Zimbabwe    Africa  1987   62.351   9216418  706.157306\n",
      "1700     Zimbabwe    Africa  1992   60.377  10704340  693.420786\n",
      "1701     Zimbabwe    Africa  1997   46.809  11404948  792.449960\n",
      "1702     Zimbabwe    Africa  2002   39.989  11926563  672.038623\n",
      "1703     Zimbabwe    Africa  2007   43.487  12311143  469.709298\n",
      "\n",
      "[1704 rows x 6 columns]\n"
     ]
    }
   ],
   "source": [
    "print(df)"
   ]
  },
  {
   "cell_type": "code",
   "execution_count": 46,
   "id": "462a78e9",
   "metadata": {},
   "outputs": [
    {
     "name": "stdout",
     "output_type": "stream",
     "text": [
      "country        Zimbabwe\n",
      "continent        Africa\n",
      "year               2007\n",
      "lifeExp          43.487\n",
      "pop            12311143\n",
      "gdpPercap    469.709298\n",
      "Name: 1703, dtype: object\n"
     ]
    }
   ],
   "source": [
    "print(df.iloc[1703])"
   ]
  },
  {
   "cell_type": "code",
   "execution_count": 22,
   "id": "b05b8a75",
   "metadata": {},
   "outputs": [
    {
     "name": "stdout",
     "output_type": "stream",
     "text": [
      "country      Bangladesh\n",
      "continent          Asia\n",
      "year               1967\n",
      "lifeExp          43.453\n",
      "pop            62821884\n",
      "gdpPercap    721.186086\n",
      "Name: 99, dtype: object\n"
     ]
    }
   ],
   "source": [
    "print(df.loc[99])"
   ]
  },
  {
   "cell_type": "code",
   "execution_count": 51,
   "id": "1fd37c51",
   "metadata": {},
   "outputs": [],
   "source": [
    "# print(df.loc[-1])  # 오류 : -1라는 행 이름이 없기 때문"
   ]
  },
  {
   "cell_type": "code",
   "execution_count": 50,
   "id": "9895d1f1",
   "metadata": {},
   "outputs": [
    {
     "name": "stdout",
     "output_type": "stream",
     "text": [
      "country        Zimbabwe\n",
      "continent        Africa\n",
      "year               2007\n",
      "lifeExp          43.487\n",
      "pop            12311143\n",
      "gdpPercap    469.709298\n",
      "Name: 1703, dtype: object\n"
     ]
    }
   ],
   "source": [
    "# shape 속성을 사용하여 행의 개수 구하기\n",
    "##df.shape 하면 (행의 수, 열의 수)로 반환\n",
    "\n",
    "number_of_rows = df.shape[0]\n",
    "\n",
    "# 행의 개수에서 1을 뺀 값으로 마지막 행의 인덱스 구하기\n",
    "last_row_index = number_of_rows - 1\n",
    "\n",
    "# 마지막 행의 인덱스로 데이터 추출하기\n",
    "print(df.loc[last_row_index])"
   ]
  },
  {
   "cell_type": "code",
   "execution_count": 25,
   "id": "ba978643",
   "metadata": {},
   "outputs": [
    {
     "name": "stdout",
     "output_type": "stream",
     "text": [
      "       country continent  year  lifeExp       pop   gdpPercap\n",
      "1703  Zimbabwe    Africa  2007   43.487  12311143  469.709298\n"
     ]
    }
   ],
   "source": [
    "print(df.tail(n=1))"
   ]
  },
  {
   "cell_type": "code",
   "execution_count": 52,
   "id": "58f690d8",
   "metadata": {},
   "outputs": [
    {
     "name": "stdout",
     "output_type": "stream",
     "text": [
      "         country continent  year  lifeExp       pop    gdpPercap\n",
      "0    Afghanistan      Asia  1952   28.801   8425333   779.445314\n",
      "99    Bangladesh      Asia  1967   43.453  62821884   721.186086\n",
      "999     Mongolia      Asia  1967   51.253   1149500  1226.041130\n"
     ]
    }
   ],
   "source": [
    "print(df.loc[[0, 99, 999]])"
   ]
  },
  {
   "cell_type": "code",
   "execution_count": 60,
   "id": "4dc271d0",
   "metadata": {},
   "outputs": [
    {
     "name": "stdout",
     "output_type": "stream",
     "text": [
      "<class 'pandas.core.series.Series'>\n",
      "<class 'pandas.core.frame.DataFrame'>\n"
     ]
    }
   ],
   "source": [
    "###### loc와 head 비교\n",
    "subset_loc = df.loc[0]\n",
    "subset_head = df.head(1)\n",
    "\n",
    "print(type(subset_loc)) # series\n",
    "print(type(subset_head)) # dataframe"
   ]
  },
  {
   "cell_type": "markdown",
   "id": "891673ca",
   "metadata": {},
   "source": [
    "#### [Do It! 실습] 행 번호로 행 데이터 추출하기"
   ]
  },
  {
   "cell_type": "code",
   "execution_count": 64,
   "id": "81376fb4",
   "metadata": {},
   "outputs": [
    {
     "name": "stdout",
     "output_type": "stream",
     "text": [
      "country      Afghanistan\n",
      "continent           Asia\n",
      "year                1952\n",
      "lifeExp           28.801\n",
      "pop              8425333\n",
      "gdpPercap     779.445314\n",
      "Name: 0, dtype: object\n"
     ]
    }
   ],
   "source": [
    "print(df.iloc[0])"
   ]
  },
  {
   "cell_type": "code",
   "execution_count": 62,
   "id": "4b871a46",
   "metadata": {},
   "outputs": [
    {
     "name": "stdout",
     "output_type": "stream",
     "text": [
      "country      Bangladesh\n",
      "continent          Asia\n",
      "year               1967\n",
      "lifeExp          43.453\n",
      "pop            62821884\n",
      "gdpPercap    721.186086\n",
      "Name: 99, dtype: object\n"
     ]
    }
   ],
   "source": [
    "print(df.iloc[99])"
   ]
  },
  {
   "cell_type": "code",
   "execution_count": 63,
   "id": "e0b10d72",
   "metadata": {},
   "outputs": [
    {
     "name": "stdout",
     "output_type": "stream",
     "text": [
      "country        Zimbabwe\n",
      "continent        Africa\n",
      "year               2007\n",
      "lifeExp          43.487\n",
      "pop            12311143\n",
      "gdpPercap    469.709298\n",
      "Name: 1703, dtype: object\n"
     ]
    }
   ],
   "source": [
    "print(df.iloc[-1])"
   ]
  },
  {
   "cell_type": "code",
   "execution_count": 65,
   "id": "212a96f1",
   "metadata": {},
   "outputs": [
    {
     "name": "stdout",
     "output_type": "stream",
     "text": [
      "         country continent  year  lifeExp       pop    gdpPercap\n",
      "0    Afghanistan      Asia  1952   28.801   8425333   779.445314\n",
      "99    Bangladesh      Asia  1967   43.453  62821884   721.186086\n",
      "999     Mongolia      Asia  1967   51.253   1149500  1226.041130\n"
     ]
    }
   ],
   "source": [
    "print(df.iloc[[0, 99, 999]])"
   ]
  },
  {
   "cell_type": "markdown",
   "id": "29d55164",
   "metadata": {},
   "source": [
    "### loc와 iloc로 데이터 추출하기"
   ]
  },
  {
   "cell_type": "markdown",
   "id": "92b44144",
   "metadata": {},
   "source": [
    "#### [Do It! 실습] 슬라이싱 구문으로 데이터 추출하기"
   ]
  },
  {
   "cell_type": "markdown",
   "id": "c241087c",
   "metadata": {},
   "source": [
    "###### loc나 iloc로 행이나 열데이터를 추출하려면 슬라이싱 구문을 사용.\n",
    "###### df.loc[ : , [열]] = 특정 열의 모든 행 데이터를 의미. ( 콜론 (:) 은 해당 축의 모든 값을 선택한다는 뜻 )"
   ]
  },
  {
   "cell_type": "code",
   "execution_count": 67,
   "id": "7aebcdb5",
   "metadata": {},
   "outputs": [
    {
     "name": "stdout",
     "output_type": "stream",
     "text": [
      "      year       pop\n",
      "0     1952   8425333\n",
      "1     1957   9240934\n",
      "2     1962  10267083\n",
      "3     1967  11537966\n",
      "4     1972  13079460\n",
      "...    ...       ...\n",
      "1699  1987   9216418\n",
      "1700  1992  10704340\n",
      "1701  1997  11404948\n",
      "1702  2002  11926563\n",
      "1703  2007  12311143\n",
      "\n",
      "[1704 rows x 2 columns]\n"
     ]
    }
   ],
   "source": [
    "subset = df.loc[:, ['year', 'pop']]\n",
    "print(subset)"
   ]
  },
  {
   "cell_type": "code",
   "execution_count": 68,
   "id": "14bf5b4d",
   "metadata": {},
   "outputs": [
    {
     "name": "stdout",
     "output_type": "stream",
     "text": [
      "      year       pop   gdpPercap\n",
      "0     1952   8425333  779.445314\n",
      "1     1957   9240934  820.853030\n",
      "2     1962  10267083  853.100710\n",
      "3     1967  11537966  836.197138\n",
      "4     1972  13079460  739.981106\n",
      "...    ...       ...         ...\n",
      "1699  1987   9216418  706.157306\n",
      "1700  1992  10704340  693.420786\n",
      "1701  1997  11404948  792.449960\n",
      "1702  2002  11926563  672.038623\n",
      "1703  2007  12311143  469.709298\n",
      "\n",
      "[1704 rows x 3 columns]\n"
     ]
    }
   ],
   "source": [
    "subset = df.iloc[:, [2, 4, -1]]\n",
    "print(subset)"
   ]
  },
  {
   "cell_type": "code",
   "execution_count": 72,
   "id": "cf68530e",
   "metadata": {},
   "outputs": [],
   "source": [
    "# subset = df.loc[:, [2, 4, -1]]  # 오류\n",
    "# print(subset)"
   ]
  },
  {
   "cell_type": "code",
   "execution_count": 34,
   "id": "3f779ef1",
   "metadata": {},
   "outputs": [],
   "source": [
    "# subset = df.iloc[:, ['year', 'pop']]  # 오류\n",
    "# print(subset)"
   ]
  },
  {
   "cell_type": "markdown",
   "id": "4a224777",
   "metadata": {},
   "source": [
    "#### [Do It! 실습] range()로 데이터 추출하기"
   ]
  },
  {
   "cell_type": "code",
   "execution_count": 74,
   "id": "548c6f27",
   "metadata": {},
   "outputs": [
    {
     "name": "stdout",
     "output_type": "stream",
     "text": [
      "[0, 1, 2, 3, 4]\n"
     ]
    }
   ],
   "source": [
    "small_range = list(range(5))\n",
    "print(small_range)"
   ]
  },
  {
   "cell_type": "code",
   "execution_count": 75,
   "id": "058a723b",
   "metadata": {},
   "outputs": [
    {
     "name": "stdout",
     "output_type": "stream",
     "text": [
      "          country continent  year  lifeExp       pop\n",
      "0     Afghanistan      Asia  1952   28.801   8425333\n",
      "1     Afghanistan      Asia  1957   30.332   9240934\n",
      "2     Afghanistan      Asia  1962   31.997  10267083\n",
      "3     Afghanistan      Asia  1967   34.020  11537966\n",
      "4     Afghanistan      Asia  1972   36.088  13079460\n",
      "...           ...       ...   ...      ...       ...\n",
      "1699     Zimbabwe    Africa  1987   62.351   9216418\n",
      "1700     Zimbabwe    Africa  1992   60.377  10704340\n",
      "1701     Zimbabwe    Africa  1997   46.809  11404948\n",
      "1702     Zimbabwe    Africa  2002   39.989  11926563\n",
      "1703     Zimbabwe    Africa  2007   43.487  12311143\n",
      "\n",
      "[1704 rows x 5 columns]\n"
     ]
    }
   ],
   "source": [
    "subset = df.iloc[:, small_range]\n",
    "print(subset)"
   ]
  },
  {
   "cell_type": "code",
   "execution_count": 76,
   "id": "9141542b",
   "metadata": {},
   "outputs": [
    {
     "name": "stdout",
     "output_type": "stream",
     "text": [
      "[3, 4, 5]\n"
     ]
    }
   ],
   "source": [
    "small_range = list(range(3, 6))\n",
    "print(small_range)"
   ]
  },
  {
   "cell_type": "code",
   "execution_count": 77,
   "id": "7524f3a8",
   "metadata": {},
   "outputs": [
    {
     "name": "stdout",
     "output_type": "stream",
     "text": [
      "      lifeExp       pop   gdpPercap\n",
      "0      28.801   8425333  779.445314\n",
      "1      30.332   9240934  820.853030\n",
      "2      31.997  10267083  853.100710\n",
      "3      34.020  11537966  836.197138\n",
      "4      36.088  13079460  739.981106\n",
      "...       ...       ...         ...\n",
      "1699   62.351   9216418  706.157306\n",
      "1700   60.377  10704340  693.420786\n",
      "1701   46.809  11404948  792.449960\n",
      "1702   39.989  11926563  672.038623\n",
      "1703   43.487  12311143  469.709298\n",
      "\n",
      "[1704 rows x 3 columns]\n"
     ]
    }
   ],
   "source": [
    "subset = df.iloc[:,small_range]\n",
    "print(subset)"
   ]
  },
  {
   "cell_type": "code",
   "execution_count": 78,
   "id": "e2d4d1af",
   "metadata": {},
   "outputs": [
    {
     "name": "stdout",
     "output_type": "stream",
     "text": [
      "          country  year       pop\n",
      "0     Afghanistan  1952   8425333\n",
      "1     Afghanistan  1957   9240934\n",
      "2     Afghanistan  1962  10267083\n",
      "3     Afghanistan  1967  11537966\n",
      "4     Afghanistan  1972  13079460\n",
      "...           ...   ...       ...\n",
      "1699     Zimbabwe  1987   9216418\n",
      "1700     Zimbabwe  1992  10704340\n",
      "1701     Zimbabwe  1997  11404948\n",
      "1702     Zimbabwe  2002  11926563\n",
      "1703     Zimbabwe  2007  12311143\n",
      "\n",
      "[1704 rows x 3 columns]\n"
     ]
    }
   ],
   "source": [
    "small_range = list(range(0, 6, 2))  # 여기서, 2자리는 매개변수 step자리 = 시작값과 끝값 사이에서 얼만큼의 간격으로 숫자를 생성할지.\n",
    "subset = df.iloc[:, small_range]\n",
    "print(subset)"
   ]
  },
  {
   "cell_type": "markdown",
   "id": "75ed8953",
   "metadata": {},
   "source": [
    "#### [Do It! 실습] 슬라이싱 구문과 range() 비교하기"
   ]
  },
  {
   "cell_type": "code",
   "execution_count": 79,
   "id": "a59e2902",
   "metadata": {},
   "outputs": [
    {
     "name": "stdout",
     "output_type": "stream",
     "text": [
      "Index(['country', 'continent', 'year', 'lifeExp', 'pop', 'gdpPercap'], dtype='object')\n"
     ]
    }
   ],
   "source": [
    "print(df.columns)"
   ]
  },
  {
   "cell_type": "code",
   "execution_count": 41,
   "id": "4dd2ab50",
   "metadata": {},
   "outputs": [
    {
     "name": "stdout",
     "output_type": "stream",
     "text": [
      "          country continent  year\n",
      "0     Afghanistan      Asia  1952\n",
      "1     Afghanistan      Asia  1957\n",
      "2     Afghanistan      Asia  1962\n",
      "3     Afghanistan      Asia  1967\n",
      "4     Afghanistan      Asia  1972\n",
      "...           ...       ...   ...\n",
      "1699     Zimbabwe    Africa  1987\n",
      "1700     Zimbabwe    Africa  1992\n",
      "1701     Zimbabwe    Africa  1997\n",
      "1702     Zimbabwe    Africa  2002\n",
      "1703     Zimbabwe    Africa  2007\n",
      "\n",
      "[1704 rows x 3 columns]\n"
     ]
    }
   ],
   "source": [
    "small_range = list(range(3))\n",
    "subset = df.iloc[:, small_range]\n",
    "print(subset)"
   ]
  },
  {
   "cell_type": "code",
   "execution_count": 83,
   "id": "25defd95",
   "metadata": {},
   "outputs": [
    {
     "name": "stdout",
     "output_type": "stream",
     "text": [
      "          country continent  year\n",
      "0     Afghanistan      Asia  1952\n",
      "1     Afghanistan      Asia  1957\n",
      "2     Afghanistan      Asia  1962\n",
      "3     Afghanistan      Asia  1967\n",
      "4     Afghanistan      Asia  1972\n",
      "...           ...       ...   ...\n",
      "1699     Zimbabwe    Africa  1987\n",
      "1700     Zimbabwe    Africa  1992\n",
      "1701     Zimbabwe    Africa  1997\n",
      "1702     Zimbabwe    Africa  2002\n",
      "1703     Zimbabwe    Africa  2007\n",
      "\n",
      "[1704 rows x 3 columns]\n"
     ]
    }
   ],
   "source": [
    "subset = df.iloc[:, :3] # :3 과 0:3은 같다 0 생략가능\n",
    "print(subset)"
   ]
  },
  {
   "cell_type": "code",
   "execution_count": 84,
   "id": "bdcfda31",
   "metadata": {},
   "outputs": [
    {
     "name": "stdout",
     "output_type": "stream",
     "text": [
      "      lifeExp       pop   gdpPercap\n",
      "0      28.801   8425333  779.445314\n",
      "1      30.332   9240934  820.853030\n",
      "2      31.997  10267083  853.100710\n",
      "3      34.020  11537966  836.197138\n",
      "4      36.088  13079460  739.981106\n",
      "...       ...       ...         ...\n",
      "1699   62.351   9216418  706.157306\n",
      "1700   60.377  10704340  693.420786\n",
      "1701   46.809  11404948  792.449960\n",
      "1702   39.989  11926563  672.038623\n",
      "1703   43.487  12311143  469.709298\n",
      "\n",
      "[1704 rows x 3 columns]\n"
     ]
    }
   ],
   "source": [
    "small_range = list(range(3, 6))\n",
    "subset = df.iloc[:, small_range]\n",
    "print(subset)"
   ]
  },
  {
   "cell_type": "code",
   "execution_count": 85,
   "id": "caa3e2e0",
   "metadata": {},
   "outputs": [
    {
     "name": "stdout",
     "output_type": "stream",
     "text": [
      "      lifeExp       pop   gdpPercap\n",
      "0      28.801   8425333  779.445314\n",
      "1      30.332   9240934  820.853030\n",
      "2      31.997  10267083  853.100710\n",
      "3      34.020  11537966  836.197138\n",
      "4      36.088  13079460  739.981106\n",
      "...       ...       ...         ...\n",
      "1699   62.351   9216418  706.157306\n",
      "1700   60.377  10704340  693.420786\n",
      "1701   46.809  11404948  792.449960\n",
      "1702   39.989  11926563  672.038623\n",
      "1703   43.487  12311143  469.709298\n",
      "\n",
      "[1704 rows x 3 columns]\n"
     ]
    }
   ],
   "source": [
    "subset = df.iloc[:, 3:6]\n",
    "print(subset)"
   ]
  },
  {
   "cell_type": "code",
   "execution_count": 86,
   "id": "6c0de75b",
   "metadata": {},
   "outputs": [
    {
     "name": "stdout",
     "output_type": "stream",
     "text": [
      "          country  year       pop\n",
      "0     Afghanistan  1952   8425333\n",
      "1     Afghanistan  1957   9240934\n",
      "2     Afghanistan  1962  10267083\n",
      "3     Afghanistan  1967  11537966\n",
      "4     Afghanistan  1972  13079460\n",
      "...           ...   ...       ...\n",
      "1699     Zimbabwe  1987   9216418\n",
      "1700     Zimbabwe  1992  10704340\n",
      "1701     Zimbabwe  1997  11404948\n",
      "1702     Zimbabwe  2002  11926563\n",
      "1703     Zimbabwe  2007  12311143\n",
      "\n",
      "[1704 rows x 3 columns]\n"
     ]
    }
   ],
   "source": [
    "small_range = list(range(0, 6, 2))\n",
    "subset = df.iloc[:, small_range]\n",
    "print(subset)"
   ]
  },
  {
   "cell_type": "code",
   "execution_count": 87,
   "id": "9257cf6f",
   "metadata": {},
   "outputs": [
    {
     "name": "stdout",
     "output_type": "stream",
     "text": [
      "          country  year       pop\n",
      "0     Afghanistan  1952   8425333\n",
      "1     Afghanistan  1957   9240934\n",
      "2     Afghanistan  1962  10267083\n",
      "3     Afghanistan  1967  11537966\n",
      "4     Afghanistan  1972  13079460\n",
      "...           ...   ...       ...\n",
      "1699     Zimbabwe  1987   9216418\n",
      "1700     Zimbabwe  1992  10704340\n",
      "1701     Zimbabwe  1997  11404948\n",
      "1702     Zimbabwe  2002  11926563\n",
      "1703     Zimbabwe  2007  12311143\n",
      "\n",
      "[1704 rows x 3 columns]\n"
     ]
    }
   ],
   "source": [
    "subset = df.iloc[:, 0:6:2]\n",
    "print(subset)"
   ]
  },
  {
   "cell_type": "markdown",
   "id": "d8da1f11",
   "metadata": {},
   "source": [
    "### 행과 열 함께 지정하여 추출하기"
   ]
  },
  {
   "cell_type": "code",
   "execution_count": 47,
   "id": "da8f3918",
   "metadata": {},
   "outputs": [
    {
     "name": "stdout",
     "output_type": "stream",
     "text": [
      "Angola\n"
     ]
    }
   ],
   "source": [
    "print(df.loc[42, 'country'])"
   ]
  },
  {
   "cell_type": "code",
   "execution_count": 89,
   "id": "7086da16",
   "metadata": {},
   "outputs": [
    {
     "name": "stdout",
     "output_type": "stream",
     "text": [
      "Angola\n"
     ]
    }
   ],
   "source": [
    "print(df.iloc[42, 0])"
   ]
  },
  {
   "cell_type": "markdown",
   "id": "ea25615f",
   "metadata": {},
   "source": [
    "#### [Do It! 실습] 여러 행과 열 지정하여 데이터 추출하기"
   ]
  },
  {
   "cell_type": "code",
   "execution_count": 90,
   "id": "1fe6a364",
   "metadata": {},
   "outputs": [
    {
     "name": "stdout",
     "output_type": "stream",
     "text": [
      "         country  lifeExp    gdpPercap\n",
      "0    Afghanistan   28.801   779.445314\n",
      "99    Bangladesh   43.453   721.186086\n",
      "999     Mongolia   51.253  1226.041130\n"
     ]
    }
   ],
   "source": [
    "print(df.iloc[[0, 99, 999], [0, 3, 5]])"
   ]
  },
  {
   "cell_type": "code",
   "execution_count": 91,
   "id": "7a0dcc1c",
   "metadata": {},
   "outputs": [
    {
     "name": "stdout",
     "output_type": "stream",
     "text": [
      "         country  lifeExp    gdpPercap\n",
      "0    Afghanistan   28.801   779.445314\n",
      "99    Bangladesh   43.453   721.186086\n",
      "999     Mongolia   51.253  1226.041130\n"
     ]
    }
   ],
   "source": [
    "print(df.loc[[0, 99, 999], ['country', 'lifeExp', 'gdpPercap']])"
   ]
  },
  {
   "cell_type": "markdown",
   "id": "274bc521",
   "metadata": {},
   "source": [
    "###### loc와 iloc 슬라이싱 구문 해석방법 다름\n",
    "loc는 [1:13]에서 13 포함, iloc[1:13]에서 13 미포함"
   ]
  },
  {
   "cell_type": "markdown",
   "id": "b39a653a",
   "metadata": {},
   "source": [
    "### 02-4 기초 통계 계산하기"
   ]
  },
  {
   "cell_type": "code",
   "execution_count": 98,
   "id": "02dd3ae9",
   "metadata": {},
   "outputs": [
    {
     "name": "stdout",
     "output_type": "stream",
     "text": [
      "          country continent  year  lifeExp       pop   gdpPercap\n",
      "0     Afghanistan      Asia  1952   28.801   8425333  779.445314\n",
      "1     Afghanistan      Asia  1957   30.332   9240934  820.853030\n",
      "2     Afghanistan      Asia  1962   31.997  10267083  853.100710\n",
      "3     Afghanistan      Asia  1967   34.020  11537966  836.197138\n",
      "4     Afghanistan      Asia  1972   36.088  13079460  739.981106\n",
      "...           ...       ...   ...      ...       ...         ...\n",
      "1699     Zimbabwe    Africa  1987   62.351   9216418  706.157306\n",
      "1700     Zimbabwe    Africa  1992   60.377  10704340  693.420786\n",
      "1701     Zimbabwe    Africa  1997   46.809  11404948  792.449960\n",
      "1702     Zimbabwe    Africa  2002   39.989  11926563  672.038623\n",
      "1703     Zimbabwe    Africa  2007   43.487  12311143  469.709298\n",
      "\n",
      "[1704 rows x 6 columns]\n"
     ]
    }
   ],
   "source": [
    "print(df)"
   ]
  },
  {
   "cell_type": "code",
   "execution_count": 105,
   "id": "aa359115",
   "metadata": {},
   "outputs": [
    {
     "name": "stdout",
     "output_type": "stream",
     "text": [
      "year\n",
      "1952    49.057620\n",
      "1957    51.507401\n",
      "1962    53.609249\n",
      "1967    55.678290\n",
      "1972    57.647386\n",
      "1977    59.570157\n",
      "1982    61.533197\n",
      "1987    63.212613\n",
      "1992    64.160338\n",
      "1997    65.014676\n",
      "2002    65.694923\n",
      "2007    67.007423\n",
      "Name: lifeExp, dtype: float64\n"
     ]
    }
   ],
   "source": [
    "print(df.groupby('year')['lifeExp'].mean())"
   ]
  },
  {
   "cell_type": "code",
   "execution_count": 106,
   "id": "0040c618",
   "metadata": {},
   "outputs": [
    {
     "name": "stdout",
     "output_type": "stream",
     "text": [
      "<class 'pandas.core.groupby.generic.DataFrameGroupBy'>\n"
     ]
    }
   ],
   "source": [
    "grouped_year_df = df.groupby('year')\n",
    "print(type(grouped_year_df))"
   ]
  },
  {
   "cell_type": "code",
   "execution_count": 108,
   "id": "54605e92",
   "metadata": {},
   "outputs": [
    {
     "name": "stdout",
     "output_type": "stream",
     "text": [
      "<pandas.core.groupby.generic.DataFrameGroupBy object at 0x0000024BC61BA8D0>\n"
     ]
    }
   ],
   "source": [
    "print(grouped_year_df) \n",
    "# 데이터프레임 내용이 아닌 객체가 저장된 메모리 주소만 출력"
   ]
  },
  {
   "cell_type": "code",
   "execution_count": 111,
   "id": "382f1732",
   "metadata": {},
   "outputs": [
    {
     "name": "stdout",
     "output_type": "stream",
     "text": [
      "<class 'pandas.core.groupby.generic.SeriesGroupBy'>\n"
     ]
    }
   ],
   "source": [
    "grouped_year_df_lifeExp = grouped_year_df['lifeExp']\n",
    "print(type(grouped_year_df_lifeExp))"
   ]
  },
  {
   "cell_type": "code",
   "execution_count": 112,
   "id": "cca69e0e",
   "metadata": {},
   "outputs": [
    {
     "name": "stdout",
     "output_type": "stream",
     "text": [
      "<pandas.core.groupby.generic.SeriesGroupBy object at 0x0000024BBE5FF910>\n"
     ]
    }
   ],
   "source": [
    "print(grouped_year_df_lifeExp)"
   ]
  },
  {
   "cell_type": "code",
   "execution_count": 113,
   "id": "a17ab225",
   "metadata": {},
   "outputs": [
    {
     "name": "stdout",
     "output_type": "stream",
     "text": [
      "year\n",
      "1952    49.057620\n",
      "1957    51.507401\n",
      "1962    53.609249\n",
      "1967    55.678290\n",
      "1972    57.647386\n",
      "1977    59.570157\n",
      "1982    61.533197\n",
      "1987    63.212613\n",
      "1992    64.160338\n",
      "1997    65.014676\n",
      "2002    65.694923\n",
      "2007    67.007423\n",
      "Name: lifeExp, dtype: float64\n"
     ]
    }
   ],
   "source": [
    "mean_lifeExp_by_year = grouped_year_df_lifeExp.mean()\n",
    "print(mean_lifeExp_by_year)"
   ]
  },
  {
   "cell_type": "markdown",
   "id": "2724c8a2",
   "metadata": {},
   "source": [
    "#### [Do It! 실습] 2개 이상 열 그룹화화기"
   ]
  },
  {
   "cell_type": "code",
   "execution_count": 114,
   "id": "e52e76b7",
   "metadata": {},
   "outputs": [],
   "source": [
    "multi_group_var = df.groupby(['year', 'continent'])[['lifeExp', 'gdpPercap']].mean()"
   ]
  },
  {
   "cell_type": "code",
   "execution_count": 115,
   "id": "31503d33",
   "metadata": {},
   "outputs": [
    {
     "name": "stdout",
     "output_type": "stream",
     "text": [
      "                  lifeExp     gdpPercap\n",
      "year continent                         \n",
      "1952 Africa     39.135500   1252.572466\n",
      "     Americas   53.279840   4079.062552\n",
      "     Asia       46.314394   5195.484004\n",
      "     Europe     64.408500   5661.057435\n",
      "     Oceania    69.255000  10298.085650\n",
      "1957 Africa     41.266346   1385.236062\n",
      "     Americas   55.960280   4616.043733\n",
      "     Asia       49.318544   5787.732940\n",
      "     Europe     66.703067   6963.012816\n",
      "     Oceania    70.295000  11598.522455\n",
      "1962 Africa     43.319442   1598.078825\n",
      "     Americas   58.398760   4901.541870\n",
      "     Asia       51.563223   5729.369625\n",
      "     Europe     68.539233   8365.486814\n",
      "     Oceania    71.085000  12696.452430\n",
      "1967 Africa     45.334538   2050.363801\n",
      "     Americas   60.410920   5668.253496\n",
      "     Asia       54.663640   5971.173374\n",
      "     Europe     69.737600  10143.823757\n",
      "     Oceania    71.310000  14495.021790\n",
      "1972 Africa     47.450942   2339.615674\n",
      "     Americas   62.394920   6491.334139\n",
      "     Asia       57.319269   8187.468699\n",
      "     Europe     70.775033  12479.575246\n",
      "     Oceania    71.910000  16417.333380\n",
      "1977 Africa     49.580423   2585.938508\n",
      "     Americas   64.391560   7352.007126\n",
      "     Asia       59.610556   7791.314020\n",
      "     Europe     71.937767  14283.979110\n",
      "     Oceania    72.855000  17283.957605\n",
      "1982 Africa     51.592865   2481.592960\n",
      "     Americas   66.228840   7506.737088\n",
      "     Asia       62.617939   7434.135157\n",
      "     Europe     72.806400  15617.896551\n",
      "     Oceania    74.290000  18554.709840\n",
      "1987 Africa     53.344788   2282.668991\n",
      "     Americas   68.090720   7793.400261\n",
      "     Asia       64.851182   7608.226508\n",
      "     Europe     73.642167  17214.310727\n",
      "     Oceania    75.320000  20448.040160\n",
      "1992 Africa     53.629577   2281.810333\n",
      "     Americas   69.568360   8044.934406\n",
      "     Asia       66.537212   8639.690248\n",
      "     Europe     74.440100  17061.568084\n",
      "     Oceania    76.945000  20894.045885\n",
      "1997 Africa     53.598269   2378.759555\n",
      "     Americas   71.150480   8889.300863\n",
      "     Asia       68.020515   9834.093295\n",
      "     Europe     75.505167  19076.781802\n",
      "     Oceania    78.190000  24024.175170\n",
      "2002 Africa     53.325231   2599.385159\n",
      "     Americas   72.422040   9287.677107\n",
      "     Asia       69.233879  10174.090397\n",
      "     Europe     76.700600  21711.732422\n",
      "     Oceania    79.740000  26938.778040\n",
      "2007 Africa     54.806038   3089.032605\n",
      "     Americas   73.608120  11003.031625\n",
      "     Asia       70.728485  12473.026870\n",
      "     Europe     77.648600  25054.481636\n",
      "     Oceania    80.719500  29810.188275\n"
     ]
    }
   ],
   "source": [
    "print(multi_group_var)"
   ]
  },
  {
   "cell_type": "code",
   "execution_count": 117,
   "id": "5b70b701",
   "metadata": {},
   "outputs": [
    {
     "name": "stdout",
     "output_type": "stream",
     "text": [
      "    year continent    lifeExp     gdpPercap\n",
      "0   1952    Africa  39.135500   1252.572466\n",
      "1   1952  Americas  53.279840   4079.062552\n",
      "2   1952      Asia  46.314394   5195.484004\n",
      "3   1952    Europe  64.408500   5661.057435\n",
      "4   1952   Oceania  69.255000  10298.085650\n",
      "5   1957    Africa  41.266346   1385.236062\n",
      "6   1957  Americas  55.960280   4616.043733\n",
      "7   1957      Asia  49.318544   5787.732940\n",
      "8   1957    Europe  66.703067   6963.012816\n",
      "9   1957   Oceania  70.295000  11598.522455\n",
      "10  1962    Africa  43.319442   1598.078825\n",
      "11  1962  Americas  58.398760   4901.541870\n",
      "12  1962      Asia  51.563223   5729.369625\n",
      "13  1962    Europe  68.539233   8365.486814\n",
      "14  1962   Oceania  71.085000  12696.452430\n",
      "15  1967    Africa  45.334538   2050.363801\n",
      "16  1967  Americas  60.410920   5668.253496\n",
      "17  1967      Asia  54.663640   5971.173374\n",
      "18  1967    Europe  69.737600  10143.823757\n",
      "19  1967   Oceania  71.310000  14495.021790\n",
      "20  1972    Africa  47.450942   2339.615674\n",
      "21  1972  Americas  62.394920   6491.334139\n",
      "22  1972      Asia  57.319269   8187.468699\n",
      "23  1972    Europe  70.775033  12479.575246\n",
      "24  1972   Oceania  71.910000  16417.333380\n",
      "25  1977    Africa  49.580423   2585.938508\n",
      "26  1977  Americas  64.391560   7352.007126\n",
      "27  1977      Asia  59.610556   7791.314020\n",
      "28  1977    Europe  71.937767  14283.979110\n",
      "29  1977   Oceania  72.855000  17283.957605\n",
      "30  1982    Africa  51.592865   2481.592960\n",
      "31  1982  Americas  66.228840   7506.737088\n",
      "32  1982      Asia  62.617939   7434.135157\n",
      "33  1982    Europe  72.806400  15617.896551\n",
      "34  1982   Oceania  74.290000  18554.709840\n",
      "35  1987    Africa  53.344788   2282.668991\n",
      "36  1987  Americas  68.090720   7793.400261\n",
      "37  1987      Asia  64.851182   7608.226508\n",
      "38  1987    Europe  73.642167  17214.310727\n",
      "39  1987   Oceania  75.320000  20448.040160\n",
      "40  1992    Africa  53.629577   2281.810333\n",
      "41  1992  Americas  69.568360   8044.934406\n",
      "42  1992      Asia  66.537212   8639.690248\n",
      "43  1992    Europe  74.440100  17061.568084\n",
      "44  1992   Oceania  76.945000  20894.045885\n",
      "45  1997    Africa  53.598269   2378.759555\n",
      "46  1997  Americas  71.150480   8889.300863\n",
      "47  1997      Asia  68.020515   9834.093295\n",
      "48  1997    Europe  75.505167  19076.781802\n",
      "49  1997   Oceania  78.190000  24024.175170\n",
      "50  2002    Africa  53.325231   2599.385159\n",
      "51  2002  Americas  72.422040   9287.677107\n",
      "52  2002      Asia  69.233879  10174.090397\n",
      "53  2002    Europe  76.700600  21711.732422\n",
      "54  2002   Oceania  79.740000  26938.778040\n",
      "55  2007    Africa  54.806038   3089.032605\n",
      "56  2007  Americas  73.608120  11003.031625\n",
      "57  2007      Asia  70.728485  12473.026870\n",
      "58  2007    Europe  77.648600  25054.481636\n",
      "59  2007   Oceania  80.719500  29810.188275\n"
     ]
    }
   ],
   "source": [
    "# year과 continent 열이 계층 구조를 이룸\n",
    "# 기존 데이터프레임 구조와 같이 계층 구조를 없애고 데이터프레임을 평탄화하고 싶다면 reset_index()메서드 사용.\n",
    "\n",
    "flat = multi_group_var.reset_index()\n",
    "print(flat)"
   ]
  },
  {
   "cell_type": "markdown",
   "id": "f3a06d32",
   "metadata": {},
   "source": [
    "### 그룹화한 데이터 개수 세기"
   ]
  },
  {
   "cell_type": "markdown",
   "id": "0dcd8938",
   "metadata": {},
   "source": [
    "#### [Do It! 실습] 그룹화한 데이터 개수 구하기"
   ]
  },
  {
   "cell_type": "code",
   "execution_count": 121,
   "id": "f9947833",
   "metadata": {},
   "outputs": [
    {
     "name": "stdout",
     "output_type": "stream",
     "text": [
      "continent\n",
      "Africa      52\n",
      "Americas    25\n",
      "Asia        33\n",
      "Europe      30\n",
      "Oceania      2\n",
      "Name: country, dtype: int64\n"
     ]
    }
   ],
   "source": [
    "print(df.groupby('continent')['country'].nunique()) #중복을 제외한 개수"
   ]
  },
  {
   "cell_type": "code",
   "execution_count": 120,
   "id": "010ca034",
   "metadata": {},
   "outputs": [
    {
     "name": "stdout",
     "output_type": "stream",
     "text": [
      "continent  country    \n",
      "Africa     Algeria        12\n",
      "           Angola         12\n",
      "           Libya          12\n",
      "           Ghana          12\n",
      "           Guinea         12\n",
      "                          ..\n",
      "Europe     Germany        12\n",
      "           Greece         12\n",
      "           Hungary        12\n",
      "Oceania    Australia      12\n",
      "           New Zealand    12\n",
      "Name: count, Length: 142, dtype: int64\n"
     ]
    }
   ],
   "source": [
    "print(df.groupby('continent')['country'].value_counts()) #지정한 열이나 행의 개수"
   ]
  },
  {
   "cell_type": "markdown",
   "id": "559b9d7f",
   "metadata": {},
   "source": [
    "### 02-5 데이터를 그래프로 표현하려면?"
   ]
  },
  {
   "cell_type": "markdown",
   "id": "03709c93",
   "metadata": {},
   "source": [
    "#### [Do It! 실습] 데이터프레임으로 그래프 그리기"
   ]
  },
  {
   "cell_type": "code",
   "execution_count": 132,
   "id": "6b738cd9",
   "metadata": {},
   "outputs": [
    {
     "name": "stdout",
     "output_type": "stream",
     "text": [
      "continent\n",
      "Africa      9.916003e+06\n",
      "Americas    2.450479e+07\n",
      "Asia        7.703872e+07\n",
      "Europe      1.716976e+07\n",
      "Oceania     8.874672e+06\n",
      "Name: pop, dtype: float64\n"
     ]
    }
   ],
   "source": [
    "global_yearly_life_expectancy = df.groupby('continent')['pop'].mean()\n",
    "print(global_yearly_life_expectancy)"
   ]
  },
  {
   "cell_type": "code",
   "execution_count": 133,
   "id": "b4cd8c55",
   "metadata": {},
   "outputs": [
    {
     "data": {
      "text/plain": [
       "<Axes: xlabel='continent'>"
      ]
     },
     "execution_count": 133,
     "metadata": {},
     "output_type": "execute_result"
    },
    {
     "data": {
      "image/png": "[encoded data removed]",
      "text/plain": [
       "<Figure size 640x480 with 1 Axes>"
      ]
     },
     "metadata": {},
     "output_type": "display_data"
    }
   ],
   "source": [
    "global_yearly_life_expectancy.plot()"
   ]
  },
  {
   "cell_type": "code",
   "execution_count": null,
   "id": "74dbdde9",
   "metadata": {},
   "outputs": [],
   "source": []
  }
 ],
 "metadata": {
  "kernelspec": {
   "display_name": "Python 3 (ipykernel)",
   "language": "python",
   "name": "python3"
  },
  "language_info": {
   "codemirror_mode": {
    "name": "ipython",
    "version": 3
   },
   "file_extension": ".py",
   "mimetype": "text/x-python",
   "name": "python",
   "nbconvert_exporter": "python",
   "pygments_lexer": "ipython3",
   "version": "3.11.5"
  },
  "toc": {
   "base_numbering": 1,
   "nav_menu": {},
   "number_sections": false,
   "sideBar": false,
   "skip_h1_title": false,
   "title_cell": "Table of Contents",
   "title_sidebar": "Contents",
   "toc_cell": false,
   "toc_position": {
    "height": "1098.67px",
    "left": "633.867px",
    "top": "111.483px",
    "width": "255.467px"
   },
   "toc_section_display": true,
   "toc_window_display": true
  }
 },
 "nbformat": 4,
 "nbformat_minor": 5
}
